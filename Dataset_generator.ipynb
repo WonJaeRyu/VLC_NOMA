{
 "cells": [
  {
   "cell_type": "code",
   "execution_count": 1,
   "id": "aa4cee2d-a149-4220-9b39-0127d3542eb0",
   "metadata": {},
   "outputs": [],
   "source": [
    "import numpy as np\n",
    "import math\n",
    "import matplotlib.pyplot as plt\n",
    "import random\n",
    "\n",
    "import torch\n",
    "import torch.nn as nn\n",
    "import torch.optim as optim\n",
    "import torch.nn.functional as F"
   ]
  },
  {
   "cell_type": "code",
   "execution_count": 2,
   "id": "903b7f8b-7996-4799-9a50-a859356eea16",
   "metadata": {},
   "outputs": [],
   "source": [
    "def f_channel(x,y,z):\n",
    "    led_x = 5\n",
    "    led_y = 5\n",
    "    led_z = 2.5\n",
    "    theta = 60\n",
    "    m=-np.log10(2)/np.log10(np.cos(np.deg2rad(theta)))\n",
    "    p_total = 60\n",
    "    Adet=1e-4\n",
    "    Ts=1\n",
    "    index=1.5\n",
    "    FOV=60\n",
    "    \n",
    "    # distance between led and pd\n",
    "    d= np.sqrt(np.power(led_x-x,2)+np.power(led_y-y,2))\n",
    "    \n",
    "    # angle between led and pd\n",
    "    theta_T = np.arctan(d/(led_z-z))\n",
    "    theta_R = theta_T\n",
    "    # Transmitted signal power\n",
    "    m1= -np.log10(2)/np.log10(np.cos(np.rad2deg(theta)))\n",
    "    T_S = p_total *(m1+1)/(2*np.pi)*(np.cos(theta_T))\n",
    "    \n",
    "    # Received signal power to pd\n",
    "    Aeff= Adet*np.cos(theta_R)\n",
    "    G_conv = index*index/np.sin(np.deg2rad(FOV))\n",
    "    d2 = np.sqrt(np.power(d,2)+np.power(led_z-z,2))\n",
    "    H_los = Aeff*T_S*G_conv/(d2*d2)\n",
    "    if (FOV >= np.rad2deg(theta_R)):\n",
    "        return H_los*p_total\n",
    "    else:\n",
    "        return 0"
   ]
  },
  {
   "cell_type": "code",
   "execution_count": 3,
   "id": "a648cc20-ff65-436c-841c-e1f1c623a3d5",
   "metadata": {},
   "outputs": [
    {
     "data": {
      "image/png": "[encoded data removed]",
      "text/plain": [
       "<Figure size 720x720 with 2 Axes>"
      ]
     },
     "metadata": {
      "needs_background": "light"
     },
     "output_type": "display_data"
    }
   ],
   "source": [
    "H=np.zeros([100,100])\n",
    "for i in range(100):\n",
    "    for j in range(100):\n",
    "        H[i][j] = f_channel(i/10, j/10, 1.5)\n",
    "        #print(i,j,H[i][j])\n",
    "\n",
    "fig = plt.figure(figsize=(10,10))\n",
    "plt.imshow(H[32:68,33:68], cmap=\"inferno\")\n",
    "plt.title(\"Plot 2D array\")\n",
    "plt.colorbar()\n",
    "plt.show()"
   ]
  },
  {
   "cell_type": "code",
   "execution_count": 52,
   "id": "8aef4b96-a784-41ee-9e76-9881aebf282c",
   "metadata": {},
   "outputs": [
    {
     "name": "stdout",
     "output_type": "stream",
     "text": [
      "0.10025130324717278\n",
      "0.04455613477652123\n",
      "Distance :  1.7300000000000004\n"
     ]
    }
   ],
   "source": [
    "x, y, z = 5, 6.73, 1.5\n",
    "d = np.sqrt(math.pow(x-5,2)+math.pow(y-5,2))\n",
    "\n",
    "print(f_channel(5,6,1.5))\n",
    "print(f_channel(6,6,z))\n",
    "print('Distance : ', d)\n"
   ]
  },
  {
   "cell_type": "code",
   "execution_count": 51,
   "id": "bfba40a0-e49b-4aa8-a881-b59de05616d4",
   "metadata": {},
   "outputs": [
    {
     "data": {
      "text/plain": [
       "0"
      ]
     },
     "execution_count": 51,
     "metadata": {},
     "output_type": "execute_result"
    }
   ],
   "source": [
    "f_channel(3.8,3.7,1.5)"
   ]
  },
  {
   "cell_type": "code",
   "execution_count": 5,
   "id": "7fb394f0-4fd1-432e-b411-ce7e5e96a588",
   "metadata": {},
   "outputs": [],
   "source": [
    "def distance_cal(user_x,user_y):\n",
    "    led_x, led_y, led_z = 5, 5, 2\n",
    "    user_z= 1.5\n",
    "    d = np.sqrt(math.pow(user_x-led_x,2) + math.pow(user_y-led_y,2))\n",
    "    h = f_channel(user_x,user_y,user_z)\n",
    "    return d, h"
   ]
  },
  {
   "cell_type": "code",
   "execution_count": 6,
   "id": "aabda08b-82fb-43e2-8c18-bac413df041f",
   "metadata": {},
   "outputs": [],
   "source": [
    "# Defined as near-user if the distance is less than 0.7m. Defined as far-user if the distance is larger than 0.7m\n",
    "def get_channel_gain():\n",
    "    H_f, H_n = 0, 0\n",
    "    while(H_f==0 or H_n == 0):\n",
    "        x = random.randrange(350,650)/100\n",
    "        y = random.randrange(350,650)/100\n",
    "        \n",
    "        d, h = distance_cal(x,y)\n",
    "        if h != 0 and d <=0.7:\n",
    "            H_n = h\n",
    "        elif h !=0 and d > 0.7:\n",
    "            H_f = h\n",
    "    return H_f, H_n"
   ]
  },
  {
   "cell_type": "code",
   "execution_count": 7,
   "id": "39d04ec9-b5fa-4fa1-b472-1e0d696ec904",
   "metadata": {},
   "outputs": [],
   "source": [
    "def theory_f(tx_snr, H_f, p_n):\n",
    "    return 0.25*(math.erfc(0.5*H_f*np.sqrt(tx_snr))+math.erfc((1-p_n-0.5)*H_f*np.sqrt(tx_snr)))\n",
    "\n",
    "def theory_n(tx_snr, H_n, p_n):\n",
    "    return 0.5*math.erfc(p_n*H_n/2*np.sqrt(tx_snr))"
   ]
  },
  {
   "cell_type": "code",
   "execution_count": 8,
   "id": "bd641ce8-93dd-4f95-87e2-65fbaa8c937d",
   "metadata": {},
   "outputs": [],
   "source": [
    "def target_power_alloc(EbN0, H_f, H_n):\n",
    "    tx_snr = math.pow(10,(EbN0/10))\n",
    "    BER = np.zeros(500)\n",
    "    for i in range(1, 501):\n",
    "        p_n = i/1000\n",
    "        BER[i-1] = abs(theory_f(tx_snr, H_f, p_n) - theory_n(tx_snr, H_n, p_n))\n",
    "    target_pn= (np.argmin(BER)+1)/1000\n",
    "    return target_pn"
   ]
  },
  {
   "cell_type": "code",
   "execution_count": 9,
   "id": "9ad31df5-0e4b-4dc6-8ce6-7ad39d8c504f",
   "metadata": {},
   "outputs": [],
   "source": [
    "EbN0 = 60\n",
    "\n",
    "H_f, H_n = get_channel_gain()\n",
    "\n",
    "#H_n = 0.10025130324717278\n",
    "#H_f = 0.04455613477652123"
   ]
  },
  {
   "cell_type": "code",
   "execution_count": 10,
   "id": "2592bb3a-f6dc-4dda-9572-baf93ef254aa",
   "metadata": {},
   "outputs": [
    {
     "name": "stdout",
     "output_type": "stream",
     "text": [
      "0.028022075343859257 0.2315113247827161 0.098\n"
     ]
    }
   ],
   "source": [
    "p_n = target_power_alloc(EbN0, H_f, H_n)\n",
    "print(H_f, H_n, p_n)"
   ]
  },
  {
   "cell_type": "code",
   "execution_count": 11,
   "id": "29184c4a-e332-4b13-957f-86cefe0c2810",
   "metadata": {},
   "outputs": [],
   "source": [
    "n = 10000\n",
    "for EbN0 in range(10,110,10):\n",
    "    f = open('test_EbN0_'+ str(EbN0)+'.csv', 'w')\n",
    "    f.write('EbN0,H_f,H_n,p_n\\n')\n",
    "    for i in range(n):\n",
    "        H_f, H_n = get_channel_gain()\n",
    "        p_n = target_power_alloc(EbN0, H_f, H_n)\n",
    "        f.write(str(EbN0)+','+str(H_f)+','+str(H_n)+','+str(p_n)+'\\n')\n",
    "    f.close()"
   ]
  },
  {
   "cell_type": "code",
   "execution_count": 12,
   "id": "df6a34a7-68c6-44de-becf-c7a16913e17f",
   "metadata": {},
   "outputs": [],
   "source": [
    "n = 100000\n",
    "f = open('learning_dataset.csv', 'w')\n",
    "f.write('EbN0,H_f,H_n,p_n\\n')\n",
    "for EbN0 in range(10,110,10): \n",
    "    for i in range(n):\n",
    "        H_f, H_n = get_channel_gain()\n",
    "        p_n = target_power_alloc(EbN0, H_f, H_n)\n",
    "        f.write(str(EbN0)+','+str(H_f)+','+str(H_n)+','+str(p_n)+'\\n')\n",
    "f.close()"
   ]
  },
  {
   "cell_type": "code",
   "execution_count": 13,
   "id": "8d4d518f-7db7-4849-85b3-c589428c9fec",
   "metadata": {},
   "outputs": [],
   "source": [
    "n = 100000\n",
    "f = open('test_dataset.csv', 'w')\n",
    "f.write('EbN0,H_f,H_n,p_n\\n')\n",
    "for EbN0 in range(10,110,10): \n",
    "    for i in range(n):\n",
    "        H_f, H_n = get_channel_gain()\n",
    "        p_n = target_power_alloc(EbN0, H_f, H_n)\n",
    "        f.write(str(EbN0)+','+str(H_f)+','+str(H_n)+','+str(p_n)+'\\n')\n",
    "f.close()"
   ]
  },
  {
   "cell_type": "code",
   "execution_count": null,
   "id": "1f929ce7-994e-484e-8f46-f3f42bbccab5",
   "metadata": {},
   "outputs": [],
   "source": []
  }
 ],
 "metadata": {
  "kernelspec": {
   "display_name": "Python 3",
   "language": "python",
   "name": "python3"
  },
  "language_info": {
   "codemirror_mode": {
    "name": "ipython",
    "version": 3
   },
   "file_extension": ".py",
   "mimetype": "text/x-python",
   "name": "python",
   "nbconvert_exporter": "python",
   "pygments_lexer": "ipython3",
   "version": "3.8.8"
  }
 },
 "nbformat": 4,
 "nbformat_minor": 5
}
