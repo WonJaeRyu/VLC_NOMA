{
 "cells": [
  {
   "cell_type": "code",
   "execution_count": 1,
   "id": "013e5bf1-78b8-4033-bc90-5d2e7038a018",
   "metadata": {},
   "outputs": [],
   "source": [
    "import csv\n",
    "import random\n",
    "import numpy as np\n",
    "import matplotlib.pyplot as plt\n",
    "from IPython.display import clear_output\n",
    "import math\n",
    "from sympy import Symbol, exp, sqrt, pi, Integral\n",
    "from scipy.integrate import quad\n",
    "from scipy.special import erf\n",
    "\n",
    "import torch\n",
    "import torch.utils.data as data\n",
    "import torch.nn.functional as F\n",
    "import torch.nn as nn\n",
    "import torch.optim as optim\n",
    "\n",
    "device = torch.device(\"cuda\")"
   ]
  },
  {
   "cell_type": "code",
   "execution_count": 2,
   "id": "a2b9239d-beb8-4c17-a55f-5550549325c1",
   "metadata": {},
   "outputs": [],
   "source": [
    "xx=[]\n",
    "tx_snr = []\n",
    "#H_f = 0.02515203629600967\n",
    "#H_n = 0.40100521298869124\n",
    "H_n=0.10025130324717278\n",
    "H_f=0.04455613477652123\n",
    "#H_f = 0.0402704167\n",
    "#H_n = 0.367564136\n",
    "#H_n = 0.3290121010789907\n",
    "#H_f = 0.0395428085386695\n",
    "\n",
    "snr = 60\n",
    "for EbN0 in range(1,snr):\n",
    "    #print([EbN0, H_f, H_n])\n",
    "    xx.append([EbN0, H_f, H_n])\n",
    "    tx_snr.append(math.pow(10,(EbN0/10)))\n",
    "xx = torch.tensor(np.array(list(np.float_(xx)))).to(device)"
   ]
  },
  {
   "cell_type": "code",
   "execution_count": 3,
   "id": "0bb65dd5-0e01-47ee-8d37-844eb4e66686",
   "metadata": {},
   "outputs": [],
   "source": [
    "m =nn.ReLU()\n",
    "hidden = 8\n",
    "class mlp(nn.Module):\n",
    "    def __init__(self):\n",
    "        super(mlp, self).__init__()\n",
    "        self.fc1 = nn.Linear(3,hidden)\n",
    "        self.fc2 = nn.Linear(hidden,hidden)\n",
    "        self.fc3 = nn.Linear(hidden,hidden)\n",
    "        self.fc4 = nn.Linear(hidden,hidden)\n",
    "        self.fc5 = nn.Linear(hidden,hidden)\n",
    "        self.fc6 = nn.Linear(hidden,hidden)\n",
    "        self.fc7 = nn.Linear(hidden,1)\n",
    "    def forward(self, x):\n",
    "        x = x.float()\n",
    "        x = m(self.fc1(x))\n",
    "        x = m(self.fc2(x))\n",
    "        x = m(self.fc3(x))\n",
    "        x = m(self.fc4(x))\n",
    "        x = m(self.fc5(x))\n",
    "        x = m(self.fc6(x))\n",
    "        x = m(self.fc7(x))\n",
    "        return x\n"
   ]
  },
  {
   "cell_type": "code",
   "execution_count": 4,
   "id": "5622d684-08a5-4e94-b61c-f101c7ca6f84",
   "metadata": {},
   "outputs": [],
   "source": [
    "model=mlp().to(device)\n",
    "\n",
    "# loading_model = \"./output/model_20210719.pth\"\n",
    "loading_model = \"./output/model_20221121.pth\"\n",
    "model = torch.load(loading_model)\n",
    "loss_fn = nn.MSELoss()"
   ]
  },
  {
   "cell_type": "code",
   "execution_count": 5,
   "id": "85f6aff9-63da-4dbe-91fa-cdb7b06acf20",
   "metadata": {},
   "outputs": [],
   "source": [
    "model.eval()\n",
    "with torch.no_grad():\n",
    "    output = model(xx).squeeze() #Different dimension may cause wrong results of backpropagation(Something called broadcasting)\n",
    "#print(output/100)"
   ]
  },
  {
   "cell_type": "code",
   "execution_count": 6,
   "id": "e0c6e574-5bae-4f75-a8a1-348d1a5db383",
   "metadata": {},
   "outputs": [],
   "source": [
    "def theory_f(tx_snr, H_f, p_n):\n",
    "    return 0.25*(math.erfc(0.5*H_f*np.sqrt(tx_snr))+math.erfc((1-p_n-0.5)*H_f*np.sqrt(tx_snr)))\n",
    "\n",
    "def theory_n(tx_snr, H_n, p_n):\n",
    "    return 0.5*math.erfc(p_n*H_n/2*np.sqrt(tx_snr))\n",
    "\n",
    "def theory_n_ip(tx_snr, H_n, p_n):\n",
    "    x= Symbol('x')\n",
    "    f = 1/sqrt(pi)*exp(-x**2)\n",
    "    result = Integral(f,(x,H_n*(2*(1-p_n)- p_n)/2*sqrt(tx_snr),math.inf)) + Integral(f, (x, H_n*(p_n-2)/2*sqrt(tx_snr), -1/2*sqrt(tx_snr)*H_n))\n",
    "    result = result.doit().evalf()/2\n",
    "    result = (1-theory_f(tx_snr, H_n, p_n))*theory_n(tx_snr, H_n, p_n) + (theory_f(tx_snr, H_n, p_n) - result)\n",
    "    return result"
   ]
  },
  {
   "cell_type": "code",
   "execution_count": 7,
   "id": "cce4912b-61ad-4c13-bb5f-ee395ccf8b4a",
   "metadata": {},
   "outputs": [],
   "source": [
    "def FTPC(tx_snr, H_f, H_n, a):\n",
    "    N0 = 1/np.log10(tx_snr)\n",
    "    p_f = 1/((H_f/N0+H_n/N0)**(-a))*(H_f/N0)**(-a)\n",
    "    p_n = 1/((H_f/N0+H_n/N0)**(-a))*(H_n/N0)**(-a)\n",
    "    p_n = p_n/(p_f+p_n)\n",
    "    return p_n"
   ]
  },
  {
   "cell_type": "code",
   "execution_count": 8,
   "id": "c093f3c7-6a1a-4299-bfa9-ed67b1f0411e",
   "metadata": {},
   "outputs": [],
   "source": [
    "def qfunc(x):\n",
    "    return 0.5-0.5*erf(x/np.sqrt(2))\n",
    "def C(x):\n",
    "    return np.log2(1+x)\n",
    "def V(x):\n",
    "    return (1-1/((1+x)**2))*np.log2(np.exp(1))**2\n",
    "def n(x):\n",
    "    t = 128\n",
    "    err= 1e-5\n",
    "    qe=qfunc(err)\n",
    "    return np.sqrt((4*C(x)*qe**2*t+V(x)) + np.sqrt(V(x)))/(2*C(x)*qe)**2\n",
    "def FBL(tx_snr, H_f, H_n):\n",
    "    p_n =[]\n",
    "    for i in range(1, 500):\n",
    "        p_n.append(i/1000)\n",
    "    N0 = 1/np.log10(tx_snr)\n",
    "    t = np.zeros(500)\n",
    "    for i in range(1,500):\n",
    "        j = i-1\n",
    "        sinr_n = (p_n[j]*H_n**2)/N0\n",
    "        sinr_f = ((1-p_n[j])*H_f**2)/(p_n[j]*H_f**2+N0)\n",
    "        \n",
    "        #print(sinr_n, sinr_f)\n",
    "        t[j]=n(sinr_n) + n(sinr_f)\n",
    "    return p_n[np.argmin(t[0:499])]"
   ]
  },
  {
   "cell_type": "code",
   "execution_count": 9,
   "id": "f83d44bb-718f-407e-bc9a-655e06f0e2fc",
   "metadata": {},
   "outputs": [],
   "source": [
    "proposed_F_BER = []\n",
    "proposed_N_BER = []\n",
    "proposed_NI_BER = []\n",
    "proposed_avg_BER = []\n",
    "fixed_F_BER = []\n",
    "fixed_N_BER = []\n",
    "fixed_NI_BER = []\n",
    "fixed_avg_BER = []\n",
    "fixed_avg_BER_03= []\n",
    "\n",
    "FTPC_avg_BER = []\n",
    "FBL_avg_BER = []\n",
    "for i in range(1,snr):\n",
    "    #print([EbN0, H_f, H_n])\n",
    "    EbN0 = i-1\n",
    "    p_n = output[EbN0]/100\n",
    "    #proposed_F_BER.append(theory_f(tx_snr[EbN0], H_f, p_n))\n",
    "    #proposed_N_BER.append(theory_n(tx_snr[EbN0], H_n, p_n))\n",
    "    #proposed_NI_BER.append(theory_n_ip(tx_snr[EbN0], H_n, p_n))\n",
    "    proposed_avg_BER.append((theory_n_ip(tx_snr[EbN0], H_n, p_n) + theory_f(tx_snr[EbN0], H_f, p_n))/2)\n",
    "    \n",
    "    p_n = 0.2\n",
    "    #fixed_F_BER.append(theory_f(tx_snr[EbN0], H_f, p_n))\n",
    "    #fixed_N_BER.append(theory_n(tx_snr[EbN0], H_n, p_n))\n",
    "    #fixed_NI_BER.append(theory_n_ip(tx_snr[EbN0], H_n, p_n))\n",
    "    fixed_avg_BER.append((theory_n_ip(tx_snr[EbN0], H_n, p_n) + theory_f(tx_snr[EbN0], H_f, p_n))/2)\n",
    "    \n",
    "    p_n= 0.3\n",
    "    fixed_avg_BER_03.append((theory_n_ip(tx_snr[EbN0], H_n, p_n) + theory_f(tx_snr[EbN0], H_f, p_n))/2)\n",
    "    \n",
    "    p_n = FTPC(tx_snr[EbN0], H_f, H_n, a=0.4)\n",
    "    FTPC_avg_BER.append((theory_n_ip(tx_snr[EbN0], H_n, p_n) + theory_f(tx_snr[EbN0], H_f, p_n))/2)\n",
    "    \n",
    "    p_n = FBL(tx_snr[EbN0], H_f, H_n)\n",
    "    FBL_avg_BER.append((theory_n_ip(tx_snr[EbN0], H_n, p_n) + theory_f(tx_snr[EbN0], H_f, p_n))/2)\n",
    "    "
   ]
  },
  {
   "cell_type": "code",
   "execution_count": 10,
   "id": "7778dfb3-b3ce-4781-82d7-1b8dcf81f26f",
   "metadata": {},
   "outputs": [
    {
     "data": {
      "image/png": "[encoded data removed]",
      "text/plain": [
       "<Figure size 432x288 with 1 Axes>"
      ]
     },
     "metadata": {
      "needs_background": "light"
     },
     "output_type": "display_data"
    }
   ],
   "source": [
    "plt.figure()\n",
    "#plt.plot(proposed_F_BER)\n",
    "#plt.plot(proposed_N_BER)\n",
    "#plt.plot(proposed_NI_BER)\n",
    "EbN0 = range(1,snr)\n",
    "plt.plot(EbN0, proposed_avg_BER)\n",
    "\n",
    "#plt.plot(fixed_F_BER)\n",
    "#plt.plot(fixed_N_BER)\n",
    "#plt.plot(fixed_NI_BER)\n",
    "plt.plot(EbN0, fixed_avg_BER,'-+')\n",
    "plt.plot(EbN0, fixed_avg_BER_03, marker=3)\n",
    "\n",
    "plt.plot(EbN0, FTPC_avg_BER, '--')\n",
    "\n",
    "plt.plot(EbN0, FBL_avg_BER, '-|')\n",
    "\n",
    "plt.legend(['Proposed_power_allocation','Fixed_power_allocation(0.2)','Fixed_power_allocation(0.3)','FTPC_power_allocation', 'FBL_power_allocation'])\n",
    "#plt.legend(['Proposed_power_alloc(FU)' ,'Proposed_power_alloc(NU with perfect SIC)','Proposed_power_alloc(NU with imperfect SIC)','Proposed_power_alloc(average BER)', 'Fixed_power_alloc(FU)','Fixed_power_alloc(NU with perfect SIC)','Fixed_power_alloc(NU with imperfect SIC)','Fixed_power_alloc(average BER)'])\n",
    "#plt.ylim((10^(-1), 10^(0)))\n",
    "\n",
    "plt.xlabel('Transmit SNR(dB)') #(x 1000)')\n",
    "plt.ylabel('Average bit error rate')\n",
    "plt.semilogy()\n",
    "plt.grid(True)\n",
    "#plt.ylim(0,1000)\n",
    "plt.show()\n",
    "loss_temp = 0"
   ]
  },
  {
   "cell_type": "code",
   "execution_count": 11,
   "id": "54161801-bc84-4ea4-ac57-a8e4ec086cfa",
   "metadata": {},
   "outputs": [
    {
     "name": "stdout",
     "output_type": "stream",
     "text": [
      "0.491405867577167\n",
      "0.489937775151494\n",
      "0.488339365177089\n",
      "0.486560995956264\n",
      "0.484937708093109\n",
      "0.483118867078309\n",
      "0.481082313618034\n",
      "0.478818782203046\n",
      "0.476298045347364\n",
      "0.473477034960986\n",
      "0.470319354604422\n",
      "0.466848464496444\n",
      "0.463028878494882\n",
      "0.458770418640211\n",
      "0.454138687775198\n",
      "0.449033959083073\n",
      "0.443508678873421\n",
      "0.437646467900999\n",
      "0.431230904528042\n",
      "0.424298844869827\n",
      "0.416974996391876\n",
      "0.408975061212618\n",
      "0.400227264150256\n",
      "0.390231555039918\n",
      "0.378682248489443\n",
      "0.365108748454924\n",
      "0.348934961329716\n",
      "0.329886195197616\n",
      "0.307998202331851\n",
      "0.283594592058643\n",
      "0.257297185695639\n",
      "0.229829429862096\n",
      "0.201426697203242\n",
      "0.173878817579230\n",
      "0.147207785221462\n",
      "0.121169116617752\n",
      "0.0982287581955654\n",
      "0.0763080536295722\n",
      "0.0583309336563791\n",
      "0.0420291028026257\n",
      "0.0284515512553239\n",
      "0.0170169962462074\n",
      "0.0100264169814837\n",
      "0.00536289058459458\n",
      "0.00251361705561647\n",
      "0.00113836446414917\n",
      "0.000420425451127374\n",
      "0.000119971912166966\n",
      "3.35565023559630e-5\n",
      "6.53218019387261e-6\n",
      "1.22569053774307e-6\n",
      "7.69038243128380e-8\n",
      "1.24280882151772e-9\n",
      "4.78869887728053e-12\n",
      "1.94202968076807e-15\n",
      "2.71136943244577e-19\n",
      "1.90894555238125e-24\n",
      "1.94558015961898e-31\n",
      "3.58945589774310e-40\n"
     ]
    }
   ],
   "source": [
    "for i in range(len(proposed_avg_BER)):\n",
    "    print(proposed_avg_BER[i])"
   ]
  },
  {
   "cell_type": "code",
   "execution_count": null,
   "id": "a83edaa2-a7bb-45c9-8820-8de416c815bb",
   "metadata": {},
   "outputs": [],
   "source": [
    "for i in range(len(proposed_avg_BER)):\n",
    "    print(fixed_avg_BER[i])"
   ]
  },
  {
   "cell_type": "code",
   "execution_count": null,
   "id": "3e6272c0-7c22-4984-be1f-c1eed7b7c72d",
   "metadata": {},
   "outputs": [],
   "source": [
    "for i in range(len(proposed_avg_BER)):\n",
    "    print(fixed_avg_BER_03[i])"
   ]
  },
  {
   "cell_type": "code",
   "execution_count": null,
   "id": "23c68847-4c6f-47cb-9800-aff5add8fe71",
   "metadata": {},
   "outputs": [],
   "source": [
    "for i in range(len(proposed_avg_BER)):\n",
    "    print(FTPC_avg_BER[i])"
   ]
  },
  {
   "cell_type": "code",
   "execution_count": null,
   "id": "b02496bf-1cd0-4742-a117-5d9933de41a6",
   "metadata": {},
   "outputs": [],
   "source": [
    "for i in range(len(proposed_avg_BER)):\n",
    "    print(FBL_avg_BER[i])"
   ]
  },
  {
   "cell_type": "code",
   "execution_count": null,
   "id": "4b30ba50-a035-4c99-a576-73c3cbd59a39",
   "metadata": {},
   "outputs": [],
   "source": [
    "for i in range(len(tx_snr)):\n",
    "    p_n = output[i]/100\n",
    "    print('TX_SNR :', tx_snr[i])\n",
    "    print('FU : ', theory_f(tx_snr[i], H_f, p_n))\n",
    "    print('NU with PSIC : ', theory_n(tx_snr[i], H_n, p_n))\n",
    "    print('NU with ISIC : ', theory_n_ip(tx_snr[i], H_n, p_n))"
   ]
  }
 ],
 "metadata": {
  "kernelspec": {
   "display_name": "Python 3",
   "language": "python",
   "name": "python3"
  },
  "language_info": {
   "codemirror_mode": {
    "name": "ipython",
    "version": 3
   },
   "file_extension": ".py",
   "mimetype": "text/x-python",
   "name": "python",
   "nbconvert_exporter": "python",
   "pygments_lexer": "ipython3",
   "version": "3.8.8"
  }
 },
 "nbformat": 4,
 "nbformat_minor": 5
}
