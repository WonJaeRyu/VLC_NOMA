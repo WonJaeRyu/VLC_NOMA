{
 "cells": [
  {
   "cell_type": "code",
   "execution_count": 1,
   "id": "013e5bf1-78b8-4033-bc90-5d2e7038a018",
   "metadata": {},
   "outputs": [],
   "source": [
    "import csv\n",
    "import random\n",
    "import numpy as np\n",
    "import matplotlib.pyplot as plt\n",
    "from IPython.display import clear_output\n",
    "\n",
    "import torch\n",
    "import torch.utils.data as data\n",
    "import torch.nn.functional as F\n",
    "import torch.nn as nn\n",
    "import torch.optim as optim\n",
    "\n",
    "device = torch.device(\"cuda\")\n",
    "\n",
    "\n",
    "with open('./learning_dataset.csv', newline='') as f:\n",
    "#with open('./Dataset_separated/EbN0_80_learning.csv', newline='') as f:\n",
    "    reader = csv.reader(f)\n",
    "    dataset = list(reader)\n",
    "f.close()    \n",
    "dataset = dataset[1:len(dataset)]"
   ]
  },
  {
   "cell_type": "code",
   "execution_count": 2,
   "id": "a2b9239d-beb8-4c17-a55f-5550549325c1",
   "metadata": {},
   "outputs": [],
   "source": [
    "sample_size = 10000\n",
    "test_dataset = random.sample(dataset, sample_size)\n",
    "train_dataset = random.sample(dataset, sample_size)\n",
    "\n",
    "#test_dataset = torch.tensor(np.array(list(np.float_(test_dataset)))).to(device)\n",
    "#train_dataset = torch.tensor(np.array(list(np.float_(train_dataset)))).to(device)\n",
    "\n",
    "#test_datset= torch.from_numpy(list(np.float_(test_dataset)))\n",
    "#train_dataset = torch.from_numpy(list(np.float_(train_dataset)))"
   ]
  },
  {
   "cell_type": "code",
   "execution_count": 3,
   "id": "0bb65dd5-0e01-47ee-8d37-844eb4e66686",
   "metadata": {},
   "outputs": [],
   "source": [
    "m =nn.ReLU()\n",
    "#m = nn.LeakyReLU(0.1)\n",
    "hidden = 8\n",
    "class mlp(nn.Module):\n",
    "    def __init__(self):\n",
    "        super(mlp, self).__init__()\n",
    "        self.fc1 = nn.Linear(3,hidden)\n",
    "        self.fc2 = nn.Linear(hidden,hidden)\n",
    "        self.fc3 = nn.Linear(hidden,hidden)\n",
    "#         self.fc4 = nn.Linear(hidden,hidden)\n",
    "#         self.fc5 = nn.Linear(hidden,hidden)\n",
    "#         self.fc6 = nn.Linear(hidden,hidden)\n",
    "        self.fc7 = nn.Linear(hidden,1)\n",
    "    def forward(self, x):\n",
    "        x = x.float()\n",
    "\n",
    "        x = m(self.fc1(x))\n",
    "        x = m(self.fc2(x))\n",
    "        x = m(self.fc3(x))\n",
    "#         x = m(self.fc4(x))\n",
    "#         x = m(self.fc5(x))\n",
    "#         x = m(self.fc6(x))\n",
    "        x = m(self.fc7(x))\n",
    "    \n",
    "        #return F.log_softmax(h4, dim=1)\n",
    "        return x\n"
   ]
  },
  {
   "cell_type": "code",
   "execution_count": 4,
   "id": "5622d684-08a5-4e94-b61c-f101c7ca6f84",
   "metadata": {},
   "outputs": [
    {
     "name": "stdout",
     "output_type": "stream",
     "text": [
      "19900 / 20000   Loss :  1.8471870422363281\n"
     ]
    },
    {
     "data": {
      "image/png": "[encoded data removed]",
      "text/plain": [
       "<Figure size 432x288 with 1 Axes>"
      ]
     },
     "metadata": {
      "needs_background": "light"
     },
     "output_type": "display_data"
    }
   ],
   "source": [
    "#batch_size = 64\n",
    "\n",
    "#epochs = 100000\n",
    "epochs = 20000\n",
    "lr = 0.001\n",
    "momentum =0.5\n",
    "\n",
    "model=mlp().to(device)\n",
    "\n",
    "#loading_model = \"./output/model.pth\"\n",
    "#model = torch.load(loading_model)\n",
    "\n",
    "#optimizer = optim.SGD(model.parameters(), lr=lr, momentum=momentum)\n",
    "optimizer = optim.Adam(model.parameters(), lr=lr)\n",
    "\n",
    "loss_fn = nn.MSELoss()\n",
    "loss_temp = 0\n",
    "total_loss = []\n",
    "\n",
    "model.train()\n",
    "for epoch in range(epochs):\n",
    "    \n",
    "    #xx = random.sample(test_dataset, batch_size)\n",
    "#     train_dataset = random.sample(dataset, sample_size)\n",
    "    xx = train_dataset\n",
    "    xx = torch.tensor(np.array(list(np.float_(xx)))).to(device)\n",
    "    labels = xx[:,3].float() * 100\n",
    "    xx =xx[:,0:3]\n",
    "    \n",
    "    output = model(xx).squeeze() #Different dimension may cause wrong results of backpropagation(Something called broadcasting)\n",
    "    #print(xx)\n",
    "    #print(output, labels)\n",
    "    loss= loss_fn(output, labels)\n",
    "    \n",
    "    optimizer.zero_grad()\n",
    "    loss.backward()\n",
    "    optimizer.step()\n",
    "    \n",
    "    #loss_temp = loss_temp + loss.item()\n",
    "    total_loss.append(loss.item())\n",
    "    if epoch%100 == 0:\n",
    "        clear_output(wait=True)\n",
    "        print(epoch,'/',epochs,'  Loss : ', loss.item())\n",
    "        '''\n",
    "        if epoch == 0:\n",
    "            total_loss.append(loss_temp)\n",
    "        else:\n",
    "            total_loss.append(loss_temp/1000)\n",
    "        '''\n",
    "        plt.plot(total_loss)\n",
    "        plt.xlabel('epochs') #(x 1000)')\n",
    "        plt.ylabel('loss')\n",
    "        #plt.ylim(0,1000)\n",
    "        plt.show()\n",
    "        loss_temp = 0\n",
    "        "
   ]
  },
  {
   "cell_type": "code",
   "execution_count": 17,
   "id": "85f6aff9-63da-4dbe-91fa-cdb7b06acf20",
   "metadata": {},
   "outputs": [
    {
     "name": "stdout",
     "output_type": "stream",
     "text": [
      "Test loss :  1.9387933015823364\n"
     ]
    }
   ],
   "source": [
    "model.eval()\n",
    "test_dataset= random.sample(dataset, sample_size)\n",
    "with torch.no_grad():\n",
    "    xx = test_dataset\n",
    "    xx = torch.tensor(np.array(list(np.float_(xx)))).to(device)\n",
    "    labels = xx[:,3].float() * 100\n",
    "    xx =xx[:,0:3]\n",
    "    \n",
    "    output = model(xx).squeeze() #Different dimension may cause wrong results of backpropagation(Something called broadcasting)\n",
    "    #print(xx)\n",
    "    #print(output, labels)\n",
    "    loss= loss_fn(output, labels)\n",
    "    \n",
    "    print('Test loss : ', loss.item())\n",
    "        "
   ]
  },
  {
   "cell_type": "code",
   "execution_count": 18,
   "id": "4e92328d-1866-4333-94b7-b43d371e29d8",
   "metadata": {},
   "outputs": [
    {
     "data": {
      "text/plain": [
       "tensor([14.9362, 13.4995,  0.0000,  ...,  7.0611,  7.0100, 15.0758],\n",
       "       device='cuda:0')"
      ]
     },
     "execution_count": 18,
     "metadata": {},
     "output_type": "execute_result"
    }
   ],
   "source": [
    "output"
   ]
  },
  {
   "cell_type": "code",
   "execution_count": 19,
   "id": "b9742c4a-2904-4d68-9e6d-052255c9a6b9",
   "metadata": {},
   "outputs": [
    {
     "data": {
      "text/plain": [
       "tensor([13.6000, 10.5000,  0.9000,  ...,  7.5000,  7.5000, 15.7000],\n",
       "       device='cuda:0')"
      ]
     },
     "execution_count": 19,
     "metadata": {},
     "output_type": "execute_result"
    }
   ],
   "source": [
    "labels"
   ]
  },
  {
   "cell_type": "code",
   "execution_count": 8,
   "id": "a05364ad-463e-4071-a1a4-f47104d0041a",
   "metadata": {},
   "outputs": [],
   "source": [
    "savePath=\"./output/model_20221121_3881.pth\"\n",
    "\n",
    "torch.save(model, savePath)"
   ]
  },
  {
   "cell_type": "code",
   "execution_count": 9,
   "id": "c6a5133b-7609-4f40-8fbc-72ec8dcb3aac",
   "metadata": {},
   "outputs": [
    {
     "data": {
      "text/plain": [
       "370180"
      ]
     },
     "execution_count": 9,
     "metadata": {},
     "output_type": "execute_result"
    }
   ],
   "source": [
    "import csv\n",
    "\n",
    "f=open('loss_rate.csv','w',encoding='utf-8', newline='')\n",
    "wr=csv.writer(f)\n",
    "\n",
    "wr.writerow(total_loss)\n",
    "#for i in range(len(total_loss)):\n",
    "#    wr.writerow(total_loss[i])"
   ]
  },
  {
   "cell_type": "code",
   "execution_count": 10,
   "id": "e7c81780-2860-45cc-bba9-1de57e85d330",
   "metadata": {},
   "outputs": [
    {
     "data": {
      "text/plain": [
       "[231.53964233398438, 229.9023895263672, 228.17063903808594]"
      ]
     },
     "execution_count": 10,
     "metadata": {},
     "output_type": "execute_result"
    }
   ],
   "source": [
    "total_loss[1:4]"
   ]
  },
  {
   "cell_type": "code",
   "execution_count": 11,
   "id": "8ec7759f-071d-472b-8362-e38e441047ce",
   "metadata": {},
   "outputs": [
    {
     "name": "stdout",
     "output_type": "stream",
     "text": [
      "0\n",
      "1\n",
      "2\n",
      "3\n",
      "4\n"
     ]
    }
   ],
   "source": [
    "for i in range(5):\n",
    "    print(i)"
   ]
  },
  {
   "cell_type": "code",
   "execution_count": null,
   "id": "a76b52d8-0524-4c0e-a6cb-7d08764a7a73",
   "metadata": {},
   "outputs": [],
   "source": []
  }
 ],
 "metadata": {
  "kernelspec": {
   "display_name": "Python 3",
   "language": "python",
   "name": "python3"
  },
  "language_info": {
   "codemirror_mode": {
    "name": "ipython",
    "version": 3
   },
   "file_extension": ".py",
   "mimetype": "text/x-python",
   "name": "python",
   "nbconvert_exporter": "python",
   "pygments_lexer": "ipython3",
   "version": "3.8.8"
  }
 },
 "nbformat": 4,
 "nbformat_minor": 5
}
